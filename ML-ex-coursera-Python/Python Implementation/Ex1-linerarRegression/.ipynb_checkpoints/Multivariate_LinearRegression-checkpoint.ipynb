{
 "cells": [
  {
   "cell_type": "code",
   "execution_count": 93,
   "metadata": {
    "collapsed": false
   },
   "outputs": [
    {
     "name": "stdout",
     "output_type": "stream",
     "text": [
      "Loading data...\n",
      "\n",
      "Shape of X:(47, 2)\n",
      "Shape of y:(47,)\n",
      "\n",
      "After adding bias:\n",
      "Shape of X:(47, 3)\n",
      "Shape of y:(47,)\n",
      "\n",
      "Doing gradient Descent with:\n",
      "alpha:0.09\n",
      "number_of_iteration:50\n",
      "\n",
      "\n",
      "The optimised weights are:\n",
      " [[ 337364.2359495 ]\n",
      " [ 102287.01639354]\n",
      " [    371.19355218]]\n",
      "\n",
      "The start and end cost after gradient descent is : [  5.44605866e+10] [  2.06984668e+09]\n"
     ]
    },
    {
     "data": {
      "image/png": "[encoded data removed]",
      "text/plain": [
       "<matplotlib.figure.Figure at 0x7fe9cb249c88>"
      ]
     },
     "metadata": {},
     "output_type": "display_data"
    },
    {
     "name": "stdout",
     "output_type": "stream",
     "text": [
      "Predicting the price of house having X[1,1650,3] as features:  [ 291655.8158957]\n"
     ]
    }
   ],
   "source": [
    "import numpy as np\n",
    "import pandas as pd\n",
    "import matplotlib as mpl\n",
    "%matplotlib inline\n",
    "import sklearn as sk\n",
    "\n",
    "def gradient_descent(X, y, initial_weights=0, num_iter = 1000, alpha = 0.01):\n",
    "    #initaial weights either dont mention or appropriate shape of initial weights\n",
    "    print(\"\\nDoing gradient Descent with:\\nalpha:{}\\nnumber_of_iteration:{}\\n\".format(alpha,num_iter))\n",
    "    m=X.shape[0]\n",
    "    n=X.shape[1]\n",
    "    if initial_weights==0:\n",
    "        weights = np.zeros((X.shape[1],1)) # considering bias all ready added\n",
    "    cost_history = np.zeros((num_iter,1))\n",
    "    for x in range(num_iter):   \n",
    "        for i in range(len(weights)):\n",
    "            pred_H = X.dot(weights).flatten() #prediction at that weights\n",
    "            weights[i,0] = weights[i,0] - alpha*(X[:,i].dot((pred_H-y)))/m\n",
    "        cost_history[x,0] = cost_J(X,y,weights)\n",
    "    print(\"\\nThe optimised weights are:\\n\",weights)\n",
    "    return weights,cost_history\n",
    "\n",
    "\n",
    "def cost_RSS(X,y,W):\n",
    "    pred = X.dot(W).flatten()\n",
    "    return sum((pred-y)**2)\n",
    "\n",
    "\n",
    "def cost_J(X,y,W):\n",
    "    pred = X.dot(W).flatten()\n",
    "    return sum((pred-y)**2)/(2*len(y))\n",
    "\n",
    "\n",
    "def feature_normalize(X):\n",
    "    X_norm = X.copy()\n",
    "    mean_r=[]\n",
    "    std_r=[]\n",
    "    for i in range(X.shape[1]):\n",
    "        mean_r.append(X[:,i].mean())\n",
    "        std_r.append(X[:,i].std())\n",
    "        X_norm[:,i] =(X_norm[:,i] - mean_r[i])/std_r[i]\n",
    "    # adding bias\n",
    "    bias = np.ones((X_norm.shape[0],X_norm.shape[1]+1))\n",
    "    bias[:,1:]=X_norm\n",
    "    X_norm = bias\n",
    "    return X_norm,mean_r,std_r\n",
    "\n",
    "#loading textdata or csv data in numpy dataset\n",
    "print(\"Loading data...\\n\")\n",
    "data = np.loadtxt('ex1data2.txt',delimiter=',')\n",
    "\n",
    "# creating feature and results\n",
    "X = data[:,0:-1]\n",
    "y = data[:,-1]\n",
    "\n",
    "print(\"Shape of X:{}\\nShape of y:{}\" .format(X.shape,y.shape))\n",
    "\n",
    "# normalizing and adding bias feature of one\n",
    "X_norm,mean_r,std_r = feature_normalize(X)\n",
    "\n",
    "print(\"\\nAfter adding bias:\\nShape of X:{}\\nShape of y:{}\" .format(X_norm.shape,y.shape))\n",
    "\n",
    "\n",
    "# invoking gradient descent\n",
    "weights, cost_history =gradient_descent(X_norm,y,0,50,0.09) # tweaking to find the optimal parameters\n",
    "\n",
    "\n",
    "print(\"\\nThe start and end cost after gradient descent is :\",cost_history[0],cost_history[-1])\n",
    "\n",
    "## Ploting the change in cost with the number of iterations\n",
    "mpl.pyplot.plot(cost_history)\n",
    "mpl.pylab.title('Minimization of cost')\n",
    "mpl.pylab.xlabel('Num of iterations')\n",
    "mpl.pylab.ylabel('Cost')\n",
    "mpl.pyplot.show()\n",
    "\n",
    "\n",
    "price = np.array([1.0,   ((1650.0 - mean_r[0]) / std_r[0]), ((3 - mean_r[1]) / std_r[1])]).dot(weights)\n",
    "print(\"Predicting the price of house having X[1,1650,3] as features: \",price)"
   ]
  },
  {
   "cell_type": "code",
   "execution_count": null,
   "metadata": {
    "collapsed": true
   },
   "outputs": [],
   "source": []
  },
  {
   "cell_type": "code",
   "execution_count": null,
   "metadata": {
    "collapsed": true
   },
   "outputs": [],
   "source": []
  },
  {
   "cell_type": "code",
   "execution_count": null,
   "metadata": {
    "collapsed": true
   },
   "outputs": [],
   "source": []
  },
  {
   "cell_type": "code",
   "execution_count": null,
   "metadata": {
    "collapsed": true
   },
   "outputs": [],
   "source": []
  },
  {
   "cell_type": "code",
   "execution_count": null,
   "metadata": {
    "collapsed": true
   },
   "outputs": [],
   "source": []
  },
  {
   "cell_type": "code",
   "execution_count": null,
   "metadata": {
    "collapsed": true
   },
   "outputs": [],
   "source": []
  },
  {
   "cell_type": "code",
   "execution_count": null,
   "metadata": {
    "collapsed": true
   },
   "outputs": [],
   "source": []
  },
  {
   "cell_type": "code",
   "execution_count": null,
   "metadata": {
    "collapsed": true
   },
   "outputs": [],
   "source": []
  }
 ],
 "metadata": {
  "kernelspec": {
   "display_name": "Python 3",
   "language": "python",
   "name": "python3"
  },
  "language_info": {
   "codemirror_mode": {
    "name": "ipython",
    "version": 3
   },
   "file_extension": ".py",
   "mimetype": "text/x-python",
   "name": "python",
   "nbconvert_exporter": "python",
   "pygments_lexer": "ipython3",
   "version": "3.5.1"
  }
 },
 "nbformat": 4,
 "nbformat_minor": 0
}
