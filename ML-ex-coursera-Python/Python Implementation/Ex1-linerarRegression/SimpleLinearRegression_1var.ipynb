{
 "cells": [
  {
   "cell_type": "code",
   "execution_count": 24,
   "metadata": {
    "collapsed": false
   },
   "outputs": [
    {
     "name": "stdout",
     "output_type": "stream",
     "text": [
      "Loading data...\n",
      "\n",
      "Shape of X:(97,)\n",
      "Shape of y:(97,)\n",
      "\n",
      "While using X in anything of sklearn we use it as X.reshape(-1,1)       if only one col,\n",
      "then X.reshape(-1,1).shape: (97, 1)\n",
      "\n",
      "After adding bias:\n",
      "Shape of X:(97, 2)\n",
      "Shape of y:(97,)\n",
      "\n",
      "The Cost J (according to AndewNg tutorial) of the initial weights: 4.51483333995\n",
      "\n",
      "The RSS of the initial weights: 875.877667951\n",
      "\n",
      "Doing gradient Descent with:\n",
      "alpha:0.01\n",
      "number_of_iteration:1000\n",
      "\n",
      "\n",
      "The optimised weights are:\n",
      " [[-3.25088222]\n",
      " [ 1.12836314]]\n"
     ]
    },
    {
     "data": {
      "image/png": "[encoded data removed]",
      "text/plain": [
       "<matplotlib.figure.Figure at 0x7fb9ea484668>"
      ]
     },
     "metadata": {},
     "output_type": "display_data"
    },
    {
     "name": "stdout",
     "output_type": "stream",
     "text": [
      "The start and end cost after gradient descent is : [ 6.79372769] [ 4.51483334]\n"
     ]
    },
    {
     "data": {
      "image/png": "[encoded data removed]",
      "text/plain": [
       "<matplotlib.figure.Figure at 0x7fb9ea02dc88>"
      ]
     },
     "metadata": {},
     "output_type": "display_data"
    }
   ],
   "source": [
    "import numpy as np\n",
    "import pandas as pd\n",
    "import matplotlib as mpl\n",
    "%matplotlib inline\n",
    "import sklearn as sk\n",
    "\n",
    "def gradient_descent(X, y, initial_weights=0, num_iter = 1000, alpha = 0.01):\n",
    "    #initaial weights either dont mention or appropriate shape of initial weights\n",
    "    print(\"\\nDoing gradient Descent with:\\nalpha:{}\\nnumber_of_iteration:{}\\n\".format(alpha,num_iter))\n",
    "    m=X.shape[0]\n",
    "    n=X.shape[1]\n",
    "    if initial_weights==0:\n",
    "        weights = np.zeros((X.shape[1],1)) # considering bias all ready added\n",
    "    cost_history = np.zeros((num_iter,1))\n",
    "    for x in range(num_iter):\n",
    "        for i in range(len(weights)):\n",
    "            pred_H = X.dot(weights).flatten() #prediction at that weights\n",
    "            weights[i,0] = weights[i,0] - alpha*(X[:,i].dot((pred_H-y)))/m\n",
    "        cost_history[x,0] = cost_J(X,y,weights)\n",
    "    print(\"\\nThe optimised weights are:\\n\",weights)\n",
    "    return weights,cost_history\n",
    "\n",
    "\n",
    "def cost_RSS(X,y,W):\n",
    "    pred = X.dot(W).flatten()\n",
    "    return sum((pred-y)**2)\n",
    "\n",
    "\n",
    "def cost_J(X,y,W):\n",
    "    pred = X.dot(W).flatten()\n",
    "    return sum((pred-y)**2)/(2*len(y))\n",
    "\n",
    "\n",
    "#loading textdata or csv data in numpy dataset\n",
    "print(\"Loading data...\\n\")\n",
    "data = np.loadtxt('ex1data1.txt',delimiter=',')\n",
    "\n",
    "# creating feature and results\n",
    "X = data[:,0]\n",
    "y = data[:,1]\n",
    "\n",
    "##Ploting the DataPoints in a scatter plot\n",
    "mpl.pylab.scatter(X,y,marker='o',)\n",
    "mpl.pylab.title('Population Distribution')\n",
    "mpl.pylab.xlabel('Population in 10,000s')\n",
    "mpl.pylab.ylabel('Profit in $10,000s')\n",
    "\n",
    "print(\"Shape of X:{}\\nShape of y:{}\" .format(X.shape,y.shape))\n",
    "print(\"\\nWhile using X in anything of sklearn we use it as X.reshape(-1,1) \\\n",
    "      if only one col,\\nthen X.reshape(-1,1).shape:\",X.reshape(-1,1).shape)\n",
    "# adding bias feature of one\n",
    "bias = np.ones((len(X),2))\n",
    "bias[:,1]=X\n",
    "X = bias\n",
    "print(\"\\nAfter adding bias:\\nShape of X:{}\\nShape of y:{}\" .format(X.shape,y.shape))\n",
    "\n",
    "print(\"\\nThe Cost J (according to AndewNg tutorial) of the initial weights:\", cost_J(X,y,weights))\n",
    "print(\"\\nThe RSS of the initial weights:\",cost_RSS(X,y,weights))\n",
    "\n",
    "\n",
    "# invoking gradient descent\n",
    "weights, cost_history =gradient_descent(X,y,0,1000,0.01)\n",
    "\n",
    "\n",
    "## Plotting the predicted line over the data points\n",
    "mpl.pylab.scatter(X[:,1],y,marker='o',)  #ploting data points \n",
    "mpl.pylab.title('Population Distribution')\n",
    "mpl.pylab.xlabel('Population in 10,000s')\n",
    "mpl.pylab.ylabel('Profit in $10,000s')\n",
    "# the prediction from the entire training as test set.\n",
    "prediction = X.dot(weights).flatten()   # predicting the values on test case\n",
    "mpl.pyplot.plot(X[:,1],prediction)      # ploting the learned linear line\n",
    "mpl.pyplot.show()\n",
    "\n",
    "print(\"The start and end cost after gradient descent is :\",cost_history[0],cost_history[-1])\n",
    "\n",
    "## Ploting the change in cost with the number of iterations\n",
    "mpl.pyplot.plot(cost_history)\n",
    "mpl.pylab.title('Minimization of cost')\n",
    "mpl.pylab.xlabel('Num of iterations')\n",
    "mpl.pylab.ylabel('Cost')\n",
    "mpl.pyplot.show()\n",
    "\n"
   ]
  },
  {
   "cell_type": "code",
   "execution_count": null,
   "metadata": {
    "collapsed": true
   },
   "outputs": [],
   "source": []
  }
 ],
 "metadata": {
  "kernelspec": {
   "display_name": "Python 3",
   "language": "python",
   "name": "python3"
  },
  "language_info": {
   "codemirror_mode": {
    "name": "ipython",
    "version": 3
   },
   "file_extension": ".py",
   "mimetype": "text/x-python",
   "name": "python",
   "nbconvert_exporter": "python",
   "pygments_lexer": "ipython3",
   "version": "3.5.1"
  }
 },
 "nbformat": 4,
 "nbformat_minor": 0
}
